{
 "cells": [
  {
   "cell_type": "markdown",
   "id": "00a5a5e5-f06e-4dbc-b7d9-0d55cda9979b",
   "metadata": {},
   "source": [
    "## Q1. What is an ensemble technique in machine learning?"
   ]
  },
  {
   "cell_type": "markdown",
   "id": "63cda08e-e4de-4104-84fa-22c1fc3c0e7b",
   "metadata": {},
   "source": [
    "## An ensemble technique in machine learning combines multiple models to improve overall performance and accuracy, often producing better results than individual models."
   ]
  },
  {
   "cell_type": "markdown",
   "id": "7456ea83-e740-44c5-b828-85c60308e45b",
   "metadata": {},
   "source": [
    "## Q2. Why are ensemble techniques used in machine learning?"
   ]
  },
  {
   "cell_type": "markdown",
   "id": "b9bd995f-9fed-44d6-b1b6-d5976857724a",
   "metadata": {},
   "source": [
    "## Ensemble techniques are used in machine learning to enhance prediction accuracy, reduce overfitting, and increase model robustness by leveraging the strengths and mitigating the weaknesses of multiple models."
   ]
  },
  {
   "cell_type": "markdown",
   "id": "eabc4452-d945-4787-9d6a-6a578219ea75",
   "metadata": {},
   "source": [
    "## Q3. What is bagging?"
   ]
  },
  {
   "cell_type": "markdown",
   "id": "fe46248a-6346-4b05-bd73-19175bc1aee3",
   "metadata": {},
   "source": [
    "## Bagging, or Bootstrap Aggregating, is an ensemble technique that improves model accuracy by training multiple versions of a model on different subsets of the data, sampled with replacement, and then averaging their predictions."
   ]
  },
  {
   "cell_type": "markdown",
   "id": "e19343c5-eabe-47f8-a4c4-1523a9594163",
   "metadata": {},
   "source": [
    "## Q4. What is boosting?"
   ]
  },
  {
   "cell_type": "markdown",
   "id": "959c49d8-eaf4-4496-b31c-1772da4a396d",
   "metadata": {},
   "source": [
    "## Boosting is an ensemble technique that sequentially trains models, with each new model focusing on correcting the errors of the previous ones, and then combines their predictions to improve overall accuracy.## "
   ]
  },
  {
   "cell_type": "markdown",
   "id": "882ccdf6-5844-4552-8574-690f270d1236",
   "metadata": {},
   "source": [
    "## Q5. What are the benefits of using ensemble techniques?"
   ]
  },
  {
   "cell_type": "markdown",
   "id": "a13a808e-06db-49c0-91a5-eb8d136c4b56",
   "metadata": {},
   "source": [
    "## The benefits of using ensemble techniques include improved prediction accuracy, increased robustness, reduced overfitting, and better generalization by combining the strengths of multiple models."
   ]
  },
  {
   "cell_type": "markdown",
   "id": "4f5aceed-9948-46ed-9281-2f5c119eb713",
   "metadata": {},
   "source": [
    "## Q6. Are ensemble techniques always better than individual models?"
   ]
  },
  {
   "cell_type": "markdown",
   "id": "5d17b892-432b-4b25-9152-4c5744976ecf",
   "metadata": {},
   "source": [
    "## Ensemble techniques are often better than individual models, but not always. Their effectiveness depends on the diversity and quality of the base models and the specific problem being addressed."
   ]
  },
  {
   "cell_type": "markdown",
   "id": "038cd2b8-3ec8-473e-baae-5532f77fdb60",
   "metadata": {},
   "source": [
    "## Q7. How is the confidence interval calculated using bootstrap?"
   ]
  },
  {
   "cell_type": "markdown",
   "id": "1d881f6f-3a33-423b-9c86-474aca28848b",
   "metadata": {},
   "source": [
    "## The confidence interval using bootstrap is calculated by repeatedly resampling the dataset with replacement to create many bootstrap samples, computing the statistic of interest for each sample, and then determining the interval from the percentiles of these bootstrap statistics."
   ]
  },
  {
   "cell_type": "markdown",
   "id": "c8265ede-4c0e-4b42-b8d9-b0414734c5a0",
   "metadata": {},
   "source": [
    "## Q8. How does bootstrap work and What are the steps involved in bootstrap?"
   ]
  },
  {
   "cell_type": "markdown",
   "id": "b45d5234-2d33-4d24-b1f1-f3f2b950a60f",
   "metadata": {},
   "source": [
    "## Bootstrap works by resampling the original dataset with replacement to create multiple bootstrap samples. The steps involved are:\n",
    "\n",
    "1. Randomly select data points from the original dataset with replacement to create a bootstrap sample.\n",
    "2. Calculate the statistic of interest for this sample.\n",
    "3. Repeat steps 1 and 2 many times (e.g., 1000 times) to generate a distribution of the statistic.\n",
    "4. Use this distribution to estimate the confidence interval or other statistical measures."
   ]
  },
  {
   "cell_type": "code",
   "execution_count": null,
   "id": "735ac3f0-c627-4490-88ef-2c50d177be1e",
   "metadata": {},
   "outputs": [],
   "source": [
    "## Q9. A researcher wants to estimate the mean height of a population of trees. They measure the height of a\n",
    "sample of 50 trees and obtain a mean height of 15 meters and a standard deviation of 2 meters. Use\n",
    "bootstrap to estimate the 95% confidence interval for the population mean height."
   ]
  }
 ],
 "metadata": {
  "kernelspec": {
   "display_name": "Python 3 (ipykernel)",
   "language": "python",
   "name": "python3"
  },
  "language_info": {
   "codemirror_mode": {
    "name": "ipython",
    "version": 3
   },
   "file_extension": ".py",
   "mimetype": "text/x-python",
   "name": "python",
   "nbconvert_exporter": "python",
   "pygments_lexer": "ipython3",
   "version": "3.10.8"
  }
 },
 "nbformat": 4,
 "nbformat_minor": 5
}
